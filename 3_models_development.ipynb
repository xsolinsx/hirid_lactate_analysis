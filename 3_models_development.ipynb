{
 "cells": [
  {
   "cell_type": "code",
   "execution_count": 1,
   "source": [
    "import os\r\n",
    "\r\n",
    "import pandas as pd\r\n",
    "from matplotlib import pyplot as plt\r\n",
    "from sklearn import linear_model, metrics\r\n"
   ],
   "outputs": [],
   "metadata": {}
  },
  {
   "cell_type": "markdown",
   "source": [
    "# Linear Regression\r\n"
   ],
   "metadata": {}
  },
  {
   "cell_type": "code",
   "execution_count": 2,
   "source": [
    "os.makedirs(\"./results/stats\", exist_ok=True)\r\n",
    "\r\n",
    "for cl, cl_name in ((1, \"Normal\"), (2, \"Mild\"), (3, \"Severe\")):\r\n",
    "    print(f\"Class: {cl_name}\")\r\n",
    "    X_train = pd.read_csv(\r\n",
    "        f\"./results/splits/X_train_{cl}_{cl_name}_padded_translated.csv\"\r\n",
    "    )\r\n",
    "    y_train = pd.read_csv(f\"./results/splits/y_train_{cl}_{cl_name}.csv\")\r\n",
    "    X_test = pd.read_csv(\r\n",
    "        f\"./results/splits/X_test_{cl}_{cl_name}_padded_translated.csv\"\r\n",
    "    )\r\n",
    "    y_test = pd.read_csv(f\"./results/splits/y_test_{cl}_{cl_name}.csv\")\r\n",
    "\r\n",
    "    # drop useless columns (both X_train and X_test have the same columns)\r\n",
    "    cols_to_drop = list()\r\n",
    "    for col in X_train.columns:\r\n",
    "        if (\r\n",
    "            \"Patient ID\" in col  # remove all \"Patient ID_N\"\r\n",
    "            or \"Sequential ID\" in col  # remove all \"Sequential ID_N\"\r\n",
    "        ):\r\n",
    "            cols_to_drop.append(col)\r\n",
    "\r\n",
    "    X_train.drop(cols_to_drop, axis=1, inplace=True)\r\n",
    "    X_test.drop(cols_to_drop, axis=1, inplace=True)\r\n",
    "    model = linear_model.LogisticRegression(penalty=\"none\", n_jobs=-1, random_state=666)\r\n",
    "    model.fit(X_train, y_train.values.ravel())\r\n",
    "\r\n",
    "    y_predicted = model.predict(X_test)\r\n",
    "    print(\r\n",
    "        metrics.classification_report(\r\n",
    "            y_test, y_predicted, labels=[0, 1], target_names=[\"Positive\", \"Negative\"]\r\n",
    "        )\r\n",
    "    )\r\n",
    "    print(f\"ROC AUC Score: {metrics.roc_auc_score(y_test, y_predicted)}\")\r\n",
    "    metrics.plot_roc_curve(model, X_test, y_test, pos_label=0)\r\n",
    "    plt.tight_layout()\r\n",
    "    plt.savefig(f\"./results/stats/logistic_regression_{cl}_{cl_name}.jpg\")\r\n",
    "    plt.close()\r\n"
   ],
   "outputs": [
    {
     "output_type": "stream",
     "name": "stdout",
     "text": [
      "Class: Normal\n",
      "              precision    recall  f1-score   support\n",
      "\n",
      "    Positive       0.91      1.00      0.96     13041\n",
      "    Negative       0.00      0.00      0.00      1220\n",
      "\n",
      "    accuracy                           0.91     14261\n",
      "   macro avg       0.46      0.50      0.48     14261\n",
      "weighted avg       0.84      0.91      0.87     14261\n",
      "\n",
      "ROC AUC Score: 0.4998849781458477\n",
      "Class: Mild\n",
      "              precision    recall  f1-score   support\n",
      "\n",
      "    Positive       0.61      0.30      0.40      2016\n",
      "    Negative       0.69      0.89      0.77      3494\n",
      "\n",
      "    accuracy                           0.67      5510\n",
      "   macro avg       0.65      0.59      0.59      5510\n",
      "weighted avg       0.66      0.67      0.64      5510\n",
      "\n",
      "ROC AUC Score: 0.5944112810168907\n",
      "Class: Severe\n",
      "              precision    recall  f1-score   support\n",
      "\n",
      "    Positive       0.58      0.23      0.33       822\n",
      "    Negative       0.75      0.93      0.83      2018\n",
      "\n",
      "    accuracy                           0.73      2840\n",
      "   macro avg       0.66      0.58      0.58      2840\n",
      "weighted avg       0.70      0.73      0.69      2840\n",
      "\n",
      "ROC AUC Score: 0.5818527413859209\n"
     ]
    }
   ],
   "metadata": {}
  }
 ],
 "metadata": {
  "orig_nbformat": 4,
  "language_info": {
   "name": "python",
   "version": "3.9.5",
   "mimetype": "text/x-python",
   "codemirror_mode": {
    "name": "ipython",
    "version": 3
   },
   "pygments_lexer": "ipython3",
   "nbconvert_exporter": "python",
   "file_extension": ".py"
  },
  "kernelspec": {
   "name": "python3",
   "display_name": "Python 3.9.5 64-bit ('.venv': venv)"
  },
  "interpreter": {
   "hash": "c643c1ae580a7eadaaaf8eb2846b79a7c1c6576dfd78895ee4877fd48cad0027"
  }
 },
 "nbformat": 4,
 "nbformat_minor": 2
}