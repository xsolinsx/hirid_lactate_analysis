{
 "cells": [
  {
   "cell_type": "code",
   "execution_count": 1,
   "source": [
    "import os\r\n",
    "\r\n",
    "import pandas as pd\r\n",
    "from matplotlib import pyplot as plt\r\n",
    "from sklearn import linear_model, metrics\r\n"
   ],
   "outputs": [],
   "metadata": {}
  },
  {
   "cell_type": "markdown",
   "source": [
    "# Linear Regression\r\n"
   ],
   "metadata": {}
  },
  {
   "cell_type": "code",
   "execution_count": 2,
   "source": [
    "HYPER_max_pad = 10\r\n",
    "\r\n",
    "os.makedirs(\"./results/stats\", exist_ok=True)\r\n",
    "categorical_vars = []\r\n",
    "for i in range(HYPER_max_pad):\r\n",
    "    categorical_vars.extend(\r\n",
    "        [\r\n",
    "            f\"{x}_{i}\"\r\n",
    "            for x in (\r\n",
    "                \"Glasgow Coma Score - Verbal Response\",\r\n",
    "                \"Glasgow Coma Score - Motor Response\",\r\n",
    "                \"Glasgow Coma Score - Eye Opening\",\r\n",
    "                \"Glasgow Coma Score - Total\",\r\n",
    "                \"Circadian rhythm\",\r\n",
    "                \"Richmond agitation-sedation scale\",\r\n",
    "                \"Ventilator Airway Code\",\r\n",
    "            )\r\n",
    "        ]\r\n",
    "    )\r\n",
    "\r\n",
    "for cl, cl_name in ((1, \"Normal\"), (2, \"Mild\"), (3, \"Severe\")):\r\n",
    "    print(f\"Class: {cl_name}\")\r\n",
    "    X_train = pd.read_csv(\r\n",
    "        f\"./results/splits/X_train_{cl}_{cl_name}_padded_translated.csv\",\r\n",
    "        dtype={k: \"category\" for k in categorical_vars},\r\n",
    "    )\r\n",
    "    y_train = pd.read_csv(f\"./results/splits/y_train_{cl}_{cl_name}.csv\")\r\n",
    "    X_test = pd.read_csv(\r\n",
    "        f\"./results/splits/X_test_{cl}_{cl_name}_padded_translated.csv\",\r\n",
    "        dtype={k: \"category\" for k in categorical_vars},\r\n",
    "    )\r\n",
    "    y_test = pd.read_csv(f\"./results/splits/y_test_{cl}_{cl_name}.csv\")\r\n",
    "\r\n",
    "    # drop useless columns (both X_train and X_test have the same columns)\r\n",
    "    cols_to_drop = list()\r\n",
    "    for col in X_train.columns:\r\n",
    "        if (\r\n",
    "            \"Patient ID\" in col  # remove all \"Patient ID_N\"\r\n",
    "            or \"Sequential ID\" in col  # remove all \"Sequential ID_N\"\r\n",
    "        ):\r\n",
    "            cols_to_drop.append(col)\r\n",
    "\r\n",
    "    X_train.drop(cols_to_drop, axis=1, inplace=True)\r\n",
    "    X_test.drop(cols_to_drop, axis=1, inplace=True)\r\n",
    "    model = linear_model.LogisticRegression(penalty=\"none\", n_jobs=-1, random_state=666)\r\n",
    "    model.fit(X_train, y_train.values.ravel())\r\n",
    "\r\n",
    "    y_predicted = model.predict(X_test)\r\n",
    "    print(\r\n",
    "        metrics.classification_report(\r\n",
    "            y_test, y_predicted, labels=[0, 1], target_names=[\"Positive\", \"Negative\"]\r\n",
    "        )\r\n",
    "    )\r\n",
    "    print(f\"ROC AUC Score: {metrics.roc_auc_score(y_test, y_predicted)}\")\r\n",
    "    metrics.plot_roc_curve(model, X_test, y_test, pos_label=0)\r\n",
    "    plt.tight_layout()\r\n",
    "    plt.savefig(f\"./results/stats/logistic_regression_{cl}_{cl_name}.png\")\r\n",
    "    plt.close()\r\n"
   ],
   "outputs": [
    {
     "output_type": "stream",
     "name": "stdout",
     "text": [
      "Class: Normal\n"
     ]
    },
    {
     "output_type": "stream",
     "name": "stderr",
     "text": [
      "d:\\Nextcloud\\Education\\Data Science\\Thesis\\Code\\.venv\\lib\\site-packages\\sklearn\\utils\\validation.py:63: FutureWarning: Arrays of bytes/strings is being converted to decimal numbers if dtype='numeric'. This behavior is deprecated in 0.24 and will be removed in 1.1 (renaming of 0.26). Please convert your data to numeric values explicitly instead.\n",
      "  return f(*args, **kwargs)\n"
     ]
    },
    {
     "output_type": "stream",
     "name": "stdout",
     "text": [
      "              precision    recall  f1-score   support\n",
      "\n",
      "    Positive       0.91      1.00      0.95     13031\n",
      "    Negative       0.00      0.00      0.00      1242\n",
      "\n",
      "    accuracy                           0.91     14273\n",
      "   macro avg       0.46      0.50      0.48     14273\n",
      "weighted avg       0.83      0.91      0.87     14273\n",
      "\n",
      "ROC AUC Score: 0.4999232599186555\n"
     ]
    },
    {
     "output_type": "stream",
     "name": "stderr",
     "text": [
      "d:\\Nextcloud\\Education\\Data Science\\Thesis\\Code\\.venv\\lib\\site-packages\\sklearn\\utils\\validation.py:63: FutureWarning: Arrays of bytes/strings is being converted to decimal numbers if dtype='numeric'. This behavior is deprecated in 0.24 and will be removed in 1.1 (renaming of 0.26). Please convert your data to numeric values explicitly instead.\n",
      "  return f(*args, **kwargs)\n"
     ]
    },
    {
     "output_type": "stream",
     "name": "stdout",
     "text": [
      "Class: Mild\n"
     ]
    },
    {
     "output_type": "stream",
     "name": "stderr",
     "text": [
      "d:\\Nextcloud\\Education\\Data Science\\Thesis\\Code\\.venv\\lib\\site-packages\\sklearn\\utils\\validation.py:63: FutureWarning: Arrays of bytes/strings is being converted to decimal numbers if dtype='numeric'. This behavior is deprecated in 0.24 and will be removed in 1.1 (renaming of 0.26). Please convert your data to numeric values explicitly instead.\n",
      "  return f(*args, **kwargs)\n",
      "d:\\Nextcloud\\Education\\Data Science\\Thesis\\Code\\.venv\\lib\\site-packages\\sklearn\\utils\\validation.py:63: FutureWarning: Arrays of bytes/strings is being converted to decimal numbers if dtype='numeric'. This behavior is deprecated in 0.24 and will be removed in 1.1 (renaming of 0.26). Please convert your data to numeric values explicitly instead.\n",
      "  return f(*args, **kwargs)\n"
     ]
    },
    {
     "output_type": "stream",
     "name": "stdout",
     "text": [
      "              precision    recall  f1-score   support\n",
      "\n",
      "    Positive       0.58      0.30      0.39      1982\n",
      "    Negative       0.69      0.88      0.77      3532\n",
      "\n",
      "    accuracy                           0.67      5514\n",
      "   macro avg       0.63      0.59      0.58      5514\n",
      "weighted avg       0.65      0.67      0.64      5514\n",
      "\n",
      "ROC AUC Score: 0.5876226925683359\n",
      "Class: Severe\n"
     ]
    },
    {
     "output_type": "stream",
     "name": "stderr",
     "text": [
      "d:\\Nextcloud\\Education\\Data Science\\Thesis\\Code\\.venv\\lib\\site-packages\\sklearn\\utils\\validation.py:63: FutureWarning: Arrays of bytes/strings is being converted to decimal numbers if dtype='numeric'. This behavior is deprecated in 0.24 and will be removed in 1.1 (renaming of 0.26). Please convert your data to numeric values explicitly instead.\n",
      "  return f(*args, **kwargs)\n",
      "d:\\Nextcloud\\Education\\Data Science\\Thesis\\Code\\.venv\\lib\\site-packages\\sklearn\\utils\\validation.py:63: FutureWarning: Arrays of bytes/strings is being converted to decimal numbers if dtype='numeric'. This behavior is deprecated in 0.24 and will be removed in 1.1 (renaming of 0.26). Please convert your data to numeric values explicitly instead.\n",
      "  return f(*args, **kwargs)\n"
     ]
    },
    {
     "output_type": "stream",
     "name": "stdout",
     "text": [
      "              precision    recall  f1-score   support\n",
      "\n",
      "    Positive       0.60      0.25      0.35       793\n",
      "    Negative       0.76      0.94      0.84      2049\n",
      "\n",
      "    accuracy                           0.74      2842\n",
      "   macro avg       0.68      0.59      0.59      2842\n",
      "weighted avg       0.72      0.74      0.70      2842\n",
      "\n",
      "ROC AUC Score: 0.5909840065925802\n"
     ]
    }
   ],
   "metadata": {}
  }
 ],
 "metadata": {
  "orig_nbformat": 4,
  "language_info": {
   "name": "python",
   "version": "3.9.5",
   "mimetype": "text/x-python",
   "codemirror_mode": {
    "name": "ipython",
    "version": 3
   },
   "pygments_lexer": "ipython3",
   "nbconvert_exporter": "python",
   "file_extension": ".py"
  },
  "kernelspec": {
   "name": "python3",
   "display_name": "Python 3.9.5 64-bit ('.venv': venv)"
  },
  "interpreter": {
   "hash": "c643c1ae580a7eadaaaf8eb2846b79a7c1c6576dfd78895ee4877fd48cad0027"
  }
 },
 "nbformat": 4,
 "nbformat_minor": 2
}