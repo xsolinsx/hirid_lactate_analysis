{
 "cells": [
  {
   "cell_type": "code",
   "execution_count": 7,
   "metadata": {},
   "outputs": [],
   "source": [
    "import datetime\r\n",
    "\r\n",
    "import pandas as pd"
   ]
  },
  {
   "cell_type": "markdown",
   "metadata": {},
   "source": [
    "# Load Demographics and Dataset_Part-Patient_id bindings\r\n"
   ]
  },
  {
   "cell_type": "code",
   "execution_count": 20,
   "metadata": {},
   "outputs": [
    {
     "data": {
      "text/html": [
       "<div>\n",
       "<style scoped>\n",
       "    .dataframe tbody tr th:only-of-type {\n",
       "        vertical-align: middle;\n",
       "    }\n",
       "\n",
       "    .dataframe tbody tr th {\n",
       "        vertical-align: top;\n",
       "    }\n",
       "\n",
       "    .dataframe thead th {\n",
       "        text-align: right;\n",
       "    }\n",
       "</style>\n",
       "<table border=\"1\" class=\"dataframe\">\n",
       "  <thead>\n",
       "    <tr style=\"text-align: right;\">\n",
       "      <th></th>\n",
       "      <th>patientid</th>\n",
       "      <th>admissiontime</th>\n",
       "      <th>sex</th>\n",
       "      <th>age</th>\n",
       "      <th>discharge_status</th>\n",
       "    </tr>\n",
       "  </thead>\n",
       "  <tbody>\n",
       "    <tr>\n",
       "      <th>count</th>\n",
       "      <td>33905.000000</td>\n",
       "      <td>33905</td>\n",
       "      <td>33905</td>\n",
       "      <td>33905.000000</td>\n",
       "      <td>33666</td>\n",
       "    </tr>\n",
       "    <tr>\n",
       "      <th>unique</th>\n",
       "      <td>NaN</td>\n",
       "      <td>NaN</td>\n",
       "      <td>2</td>\n",
       "      <td>NaN</td>\n",
       "      <td>2</td>\n",
       "    </tr>\n",
       "    <tr>\n",
       "      <th>top</th>\n",
       "      <td>NaN</td>\n",
       "      <td>NaN</td>\n",
       "      <td>M</td>\n",
       "      <td>NaN</td>\n",
       "      <td>alive</td>\n",
       "    </tr>\n",
       "    <tr>\n",
       "      <th>freq</th>\n",
       "      <td>NaN</td>\n",
       "      <td>NaN</td>\n",
       "      <td>21767</td>\n",
       "      <td>NaN</td>\n",
       "      <td>31604</td>\n",
       "    </tr>\n",
       "    <tr>\n",
       "      <th>mean</th>\n",
       "      <td>16953.000000</td>\n",
       "      <td>2151-03-13 08:23:47.234832384</td>\n",
       "      <td>NaN</td>\n",
       "      <td>63.523964</td>\n",
       "      <td>NaN</td>\n",
       "    </tr>\n",
       "    <tr>\n",
       "      <th>min</th>\n",
       "      <td>1.000000</td>\n",
       "      <td>2102-11-27 06:45:00</td>\n",
       "      <td>NaN</td>\n",
       "      <td>20.000000</td>\n",
       "      <td>NaN</td>\n",
       "    </tr>\n",
       "    <tr>\n",
       "      <th>25%</th>\n",
       "      <td>8477.000000</td>\n",
       "      <td>2129-02-14 12:20:00</td>\n",
       "      <td>NaN</td>\n",
       "      <td>55.000000</td>\n",
       "      <td>NaN</td>\n",
       "    </tr>\n",
       "    <tr>\n",
       "      <th>50%</th>\n",
       "      <td>16953.000000</td>\n",
       "      <td>2151-05-23 19:30:00</td>\n",
       "      <td>NaN</td>\n",
       "      <td>65.000000</td>\n",
       "      <td>NaN</td>\n",
       "    </tr>\n",
       "    <tr>\n",
       "      <th>75%</th>\n",
       "      <td>25429.000000</td>\n",
       "      <td>2173-04-07 18:30:00</td>\n",
       "      <td>NaN</td>\n",
       "      <td>75.000000</td>\n",
       "      <td>NaN</td>\n",
       "    </tr>\n",
       "    <tr>\n",
       "      <th>max</th>\n",
       "      <td>33905.000000</td>\n",
       "      <td>2198-09-03 16:35:00</td>\n",
       "      <td>NaN</td>\n",
       "      <td>90.000000</td>\n",
       "      <td>NaN</td>\n",
       "    </tr>\n",
       "    <tr>\n",
       "      <th>std</th>\n",
       "      <td>9787.674775</td>\n",
       "      <td>NaN</td>\n",
       "      <td>NaN</td>\n",
       "      <td>15.196436</td>\n",
       "      <td>NaN</td>\n",
       "    </tr>\n",
       "  </tbody>\n",
       "</table>\n",
       "</div>"
      ],
      "text/plain": [
       "           patientid                  admissiontime    sex           age  \\\n",
       "count   33905.000000                          33905  33905  33905.000000   \n",
       "unique           NaN                            NaN      2           NaN   \n",
       "top              NaN                            NaN      M           NaN   \n",
       "freq             NaN                            NaN  21767           NaN   \n",
       "mean    16953.000000  2151-03-13 08:23:47.234832384    NaN     63.523964   \n",
       "min         1.000000            2102-11-27 06:45:00    NaN     20.000000   \n",
       "25%      8477.000000            2129-02-14 12:20:00    NaN     55.000000   \n",
       "50%     16953.000000            2151-05-23 19:30:00    NaN     65.000000   \n",
       "75%     25429.000000            2173-04-07 18:30:00    NaN     75.000000   \n",
       "max     33905.000000            2198-09-03 16:35:00    NaN     90.000000   \n",
       "std      9787.674775                            NaN    NaN     15.196436   \n",
       "\n",
       "       discharge_status  \n",
       "count             33666  \n",
       "unique                2  \n",
       "top               alive  \n",
       "freq              31604  \n",
       "mean                NaN  \n",
       "min                 NaN  \n",
       "25%                 NaN  \n",
       "50%                 NaN  \n",
       "75%                 NaN  \n",
       "max                 NaN  \n",
       "std                 NaN  "
      ]
     },
     "metadata": {},
     "output_type": "display_data"
    }
   ],
   "source": [
    "raw_obs_path = \"./datasets/raw_stage/observation_tables\"\r\n",
    "lactate_var_ids = (24000524, 24000732, 24000485)\r\n",
    "\r\n",
    "df_demo = pd.read_csv(\"./datasets/reference_data/general_table.csv\")\r\n",
    "# convert admissiontime to datetime type\r\n",
    "df_demo[\"admissiontime\"] = pd.to_datetime(df_demo[\"admissiontime\"])\r\n",
    "display(df_demo.describe(include=\"all\", datetime_is_numeric=True))\r\n",
    "\r\n",
    "df_pid_part = pd.read_csv(f\"{raw_obs_path}/observation_tables_index.csv\")\r\n",
    "df_pid_part.sort_values(by=[\"part\"], inplace=True)"
   ]
  },
  {
   "cell_type": "markdown",
   "metadata": {},
   "source": [
    "# Filter Age >= 18 Years Old\r\n",
    "\r\n",
    "No effect, patients inside HiRID are all >= 18 years old\r\n"
   ]
  },
  {
   "cell_type": "code",
   "execution_count": 21,
   "metadata": {},
   "outputs": [],
   "source": [
    "df_demo = df_demo[df_demo[\"age\"] >= 18]\r\n",
    "df_demo.reset_index(drop=True, inplace=True)"
   ]
  },
  {
   "cell_type": "markdown",
   "metadata": {},
   "source": [
    "# Filter Stay >= 1 Day\r\n"
   ]
  },
  {
   "cell_type": "code",
   "execution_count": 29,
   "metadata": {},
   "outputs": [
    {
     "name": "stdout",
     "output_type": "stream",
     "text": [
      "0.1\n",
      "0.2\n",
      "0.3\n",
      "0.4\n",
      "0.5\n",
      "0.6\n",
      "0.7\n",
      "0.8\n",
      "0.9\n",
      "1.0\n",
      "16787\n"
     ]
    }
   ],
   "source": [
    "filtered_pids = list()\r\n",
    "for x in df_pid_part[\"part\"].unique():\r\n",
    "    if (x + 1) % 25 == 0:\r\n",
    "        print((x + 1) / len(df_pid_part[\"part\"].unique()))\r\n",
    "    df_part_X = pd.read_parquet(f\"{raw_obs_path}/parquet/part-{x}.parquet\")\r\n",
    "    for pid in df_pid_part[df_pid_part[\"part\"] == x][\"patientid\"]:\r\n",
    "        df_part_X_pid_Y = df_part_X[df_part_X[\"patientid\"] == pid].copy()\r\n",
    "        df_part_X_pid_Y.sort_values(by=[\"datetime\", \"entertime\"], inplace=True)\r\n",
    "        # last datetime - admissiontime\r\n",
    "        if (\r\n",
    "            df_part_X_pid_Y.iloc[-1][\"datetime\"]\r\n",
    "            - df_demo[df_demo[\"patientid\"] == pid].iloc[0][\"admissiontime\"]\r\n",
    "        ) >= datetime.timedelta(days=1):\r\n",
    "            filtered_pids.append(pid)\r\n",
    "\r\n",
    "with open(\"./results/patients_18+_1d+.txt\", \"w\") as f:\r\n",
    "    for x in filtered_pids:\r\n",
    "        f.write(f\"{x}\\n\")\r\n",
    "print(len(filtered_pids))\r\n"
   ]
  },
  {
   "cell_type": "markdown",
   "metadata": {},
   "source": [
    "# Filter Lactate_Measurements >= 2\r\n",
    "\r\n",
    "This should be useless as the next filter tests that lactate_measurements >= 2 in the first 2d (CHECK)\r\n",
    "\r\n",
    "So obviously if there are 2+ lactate measurements in the first 2d then there are of course 2+ lactate measurements in general\r\n"
   ]
  },
  {
   "cell_type": "code",
   "execution_count": 23,
   "metadata": {},
   "outputs": [
    {
     "name": "stdout",
     "output_type": "stream",
     "text": [
      "0.1\n",
      "0.2\n",
      "0.3\n",
      "0.4\n",
      "0.5\n",
      "0.6\n",
      "0.7\n",
      "0.8\n",
      "0.9\n",
      "1.0\n",
      "15209\n"
     ]
    }
   ],
   "source": [
    "filtered_pids = list()\r\n",
    "previously_filtered = list()\r\n",
    "with open(\"./results/patients_18+_1d+.txt\", \"r\") as f:\r\n",
    "    previously_filtered.extend(int(x) for x in f.readlines())\r\n",
    "\r\n",
    "for x in df_pid_part[\"part\"].unique():\r\n",
    "    if (x + 1) % 25 == 0:\r\n",
    "        print((x + 1) / len(df_pid_part[\"part\"].unique()))\r\n",
    "    df_part_X = pd.read_parquet(f\"{raw_obs_path}/parquet/part-{x}.parquet\")\r\n",
    "    for pid in df_pid_part[\r\n",
    "        (df_pid_part[\"part\"] == x)\r\n",
    "        & (df_pid_part[\"patientid\"].isin(previously_filtered))\r\n",
    "    ][\"patientid\"]:\r\n",
    "        df_part_X_pid_Y = df_part_X[df_part_X[\"patientid\"] == pid].copy()\r\n",
    "        if (\r\n",
    "            len(df_part_X_pid_Y[df_part_X_pid_Y[\"variableid\"].isin(lactate_var_ids)])\r\n",
    "            >= 2\r\n",
    "        ):\r\n",
    "            filtered_pids.append(pid)\r\n",
    "\r\n",
    "with open(\"./results/patients_18+_1d+_2+lactate_measurements.txt\", \"w\") as f:\r\n",
    "    for x in filtered_pids:\r\n",
    "        f.write(f\"{x}\\n\")\r\n",
    "print(len(filtered_pids))\r\n"
   ]
  },
  {
   "cell_type": "markdown",
   "metadata": {},
   "source": [
    "# Filter Lactate_Measurements >= 2 in First 2d of Stay\r\n"
   ]
  },
  {
   "cell_type": "code",
   "execution_count": 30,
   "metadata": {},
   "outputs": [
    {
     "name": "stdout",
     "output_type": "stream",
     "text": [
      "0.1\n",
      "0.2\n",
      "0.3\n",
      "0.4\n",
      "0.5\n",
      "0.6\n",
      "0.7\n",
      "0.8\n",
      "0.9\n",
      "1.0\n",
      "15046\n"
     ]
    }
   ],
   "source": [
    "filtered_pids = list()\r\n",
    "previously_filtered = list()\r\n",
    "with open(\"./results/patients_18+_1d+_2+lactate_measurements.txt\", \"r\") as f:\r\n",
    "    previously_filtered.extend(int(x) for x in f.readlines())\r\n",
    "\r\n",
    "for x in df_pid_part[\"part\"].unique():\r\n",
    "    if (x + 1) % 25 == 0:\r\n",
    "        print((x + 1) / len(df_pid_part[\"part\"].unique()))\r\n",
    "    df_part_X = pd.read_parquet(f\"{raw_obs_path}/parquet/part-{x}.parquet\")\r\n",
    "    for pid in df_pid_part[\r\n",
    "        (df_pid_part[\"part\"] == x)\r\n",
    "        & (df_pid_part[\"patientid\"].isin(previously_filtered))\r\n",
    "    ][\"patientid\"]:\r\n",
    "        df_part_X_pid_Y = df_part_X[df_part_X[\"patientid\"] == pid].copy()\r\n",
    "        post_2d = df_demo[df_demo[\"patientid\"] == pid].iloc[0][\r\n",
    "            \"admissiontime\"\r\n",
    "        ] + datetime.timedelta(days=2)\r\n",
    "        # keep only first 2d\r\n",
    "        df_part_X_pid_Y = df_part_X_pid_Y[df_part_X_pid_Y[\"datetime\"] <= post_2d]\r\n",
    "        if (\r\n",
    "            len(df_part_X_pid_Y[df_part_X_pid_Y[\"variableid\"].isin(lactate_var_ids)])\r\n",
    "            >= 2\r\n",
    "        ):\r\n",
    "            filtered_pids.append(pid)\r\n",
    "\r\n",
    "with open(\"./results/patients_18+_1d+_2+lactate_measurements_in_first2d.txt\", \"w\") as f:\r\n",
    "    for x in filtered_pids:\r\n",
    "        f.write(f\"{x}\\n\")\r\n",
    "print(len(filtered_pids))\r\n"
   ]
  },
  {
   "cell_type": "markdown",
   "metadata": {},
   "source": [
    "# Extract 5 Patients and Initial Sample Dataset\r\n"
   ]
  },
  {
   "cell_type": "code",
   "execution_count": 31,
   "metadata": {},
   "outputs": [
    {
     "data": {
      "text/plain": [
       "[17786, 16503, 22946, 9465, 6586]"
      ]
     },
     "execution_count": 31,
     "metadata": {},
     "output_type": "execute_result"
    }
   ],
   "source": [
    "patientids = list()\r\n",
    "with open(\"./results/patients_18+_1d+_2+lactate_measurements_in_first2d.txt\", \"r\") as f:\r\n",
    "    patientids.extend(int(x) for x in f.readlines())\r\n",
    "patientids = patientids[:5]\r\n",
    "patientids\r\n"
   ]
  },
  {
   "cell_type": "code",
   "execution_count": null,
   "metadata": {},
   "outputs": [],
   "source": [
    "df_pid_part_sample = df_pid_part[df_pid_part[\"patientid\"].isin(patientids)].copy()\r\n",
    "patients_sample = list()\r\n",
    "for x in df_pid_part_sample[\"part\"].unique():\r\n",
    "    print((x + 1) / len(df_pid_part[\"part\"].unique()))\r\n",
    "    df_part_X = pd.read_parquet(f\"{raw_obs_path}/parquet/part-{x}.parquet\")\r\n",
    "    for pid in df_pid_part_sample[df_pid_part_sample[\"part\"] == x][\"patientid\"]:\r\n",
    "        patients_sample.append(df_part_X[df_part_X[\"patientid\"] == pid].copy())\r\n",
    "\r\n",
    "df_sample = pd.DataFrame()\r\n",
    "for df in patients_sample:\r\n",
    "    df_sample = df_sample.append(df)\r\n",
    "df_sample = df_sample.merge(df_demo, on=\"patientid\")\r\n",
    "df_variables = pd.read_csv(\"./datasets/reference_data/hirid_variable_reference.csv\")\r\n",
    "# extract only observation variables\r\n",
    "df_variables = df_variables[df_variables[\"Source Table\"] == \"Observation\"]\r\n",
    "df_sample = df_sample.merge(df_variables, left_on=\"variableid\", right_on=\"ID\")\r\n",
    "df_sample.drop(labels=[\"Source Table\", \"ID\"], axis=1, inplace=True)\r\n",
    "df_sample.sort_values(\r\n",
    "    by=[\"patientid\", \"admissiontime\", \"datetime\", \"entertime\"], inplace=True\r\n",
    ")\r\n",
    "df_sample.reset_index(drop=True, inplace=True)\r\n",
    "df_sample.to_csv(\"./results/sample.csv\")\r\n",
    "display(df_sample)\r\n"
   ]
  }
 ],
 "metadata": {
  "interpreter": {
   "hash": "31c69788acab179961f04db2c37edbcbc2810a9f30d3da923755f91a3aabbcda"
  },
  "kernelspec": {
   "display_name": "Python 3.7.9 64-bit ('P37_pycaret_venv': venv)",
   "name": "python3"
  },
  "language_info": {
   "codemirror_mode": {
    "name": "ipython",
    "version": 3
   },
   "file_extension": ".py",
   "mimetype": "text/x-python",
   "name": "python",
   "nbconvert_exporter": "python",
   "pygments_lexer": "ipython3",
   "version": "3.7.9"
  },
  "orig_nbformat": 4
 },
 "nbformat": 4,
 "nbformat_minor": 2
}